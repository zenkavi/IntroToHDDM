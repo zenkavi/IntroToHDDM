{
 "cells": [
  {
   "cell_type": "markdown",
   "id": "7fae1c57",
   "metadata": {},
   "source": [
    "# From simulator to inference with HDDM (LAN version)"
   ]
  },
  {
   "cell_type": "code",
   "execution_count": null,
   "id": "aec7cd60",
   "metadata": {},
   "outputs": [],
   "source": [
    "# package to help train networks\n",
    "# !pip install git+https://github.com/AlexanderFengler/LANfactory"
   ]
  },
  {
   "cell_type": "code",
   "execution_count": null,
   "id": "8ad25e04",
   "metadata": {},
   "outputs": [],
   "source": [
    "# !conda install --quiet --yes scipy"
   ]
  },
  {
   "cell_type": "code",
   "execution_count": 1,
   "id": "e8b5204c",
   "metadata": {},
   "outputs": [],
   "source": [
    "# HDDM\n",
    "import hddm\n",
    "\n",
    "# Package to help train networks (explained above)\n",
    "# import lanfactory\n",
    "\n",
    "# Package containing simulators for ssms (explained above)\n",
    "import ssms\n",
    "\n",
    "# Other misc packages\n",
    "import os\n",
    "import numpy as np\n",
    "from copy import deepcopy\n",
    "import pandas as pd\n",
    "import matplotlib\n",
    "import matplotlib.pyplot as plt\n",
    "import torch"
   ]
  },
  {
   "cell_type": "code",
   "execution_count": 2,
   "id": "2f6c7b3b",
   "metadata": {},
   "outputs": [
    {
     "data": {
      "text/plain": [
       "{'name': 'ddm',\n",
       " 'params': ['v', 'a', 'z', 't'],\n",
       " 'param_bounds': [[-3.0, 0.3, 0.1, 0.0], [3.0, 2.5, 0.9, 2.0]],\n",
       " 'boundary': <function ssms.basic_simulators.boundary_functions.constant(t=0)>,\n",
       " 'n_params': 4,\n",
       " 'default_params': [0.0, 1.0, 0.5, 0.001],\n",
       " 'hddm_include': ['z'],\n",
       " 'nchoices': 2}"
      ]
     },
     "execution_count": 2,
     "metadata": {},
     "output_type": "execute_result"
    }
   ],
   "source": [
    "# MAKE CONFIGS\n",
    "from ssms.config import data_generator_config\n",
    "\n",
    "# Initialize the generator config (for MLP LANs)\n",
    "\n",
    "# (We start from a supplied example in the ssms package)\n",
    "# generator_config = deepcopy(data_generator_config['lan']['mlp'])\n",
    "generator_config = deepcopy(data_generator_config['lan'])\n",
    "\n",
    "# Specify generative model (one from the list of included models in the ssms package)\n",
    "generator_config['dgp_list'] = 'ddm'\n",
    "\n",
    "# Specify number of parameter sets to simulate\n",
    "generator_config['n_parameter_sets'] = 5000\n",
    "\n",
    "# Specify how many samples a simulation run should entail\n",
    "generator_config['n_samples'] = 2000\n",
    "\n",
    "# Specify how many training examples to extract from\n",
    "# a single parametervector\n",
    "generator_config['n_training_examples_by_parameter_set'] = 2000\n",
    "\n",
    "# Specify folder in which to save generated data\n",
    "generator_config['output_folder'] = 'lan_to_hddm_tmp_data/lan_mlp/'\n",
    "\n",
    "# Make model config dict\n",
    "model_config = ssms.config.model_config['ddm']\n",
    "\n",
    "# Show\n",
    "model_config"
   ]
  },
  {
   "cell_type": "code",
   "execution_count": 3,
   "id": "37a2aac5",
   "metadata": {},
   "outputs": [
    {
     "data": {
      "text/plain": [
       "{'output_folder': 'lan_to_hddm_tmp_data/lan_mlp/',\n",
       " 'dgp_list': 'ddm',\n",
       " 'nbins': 0,\n",
       " 'n_samples': 2000,\n",
       " 'n_parameter_sets': 5000,\n",
       " 'n_parameter_sets_rejected': 100,\n",
       " 'n_training_samples_by_parameter_set': 1000,\n",
       " 'max_t': 20.0,\n",
       " 'delta_t': 0.001,\n",
       " 'pickleprotocol': 4,\n",
       " 'n_cpus': 'all',\n",
       " 'kde_data_mixture_probabilities': [0.8, 0.1, 0.1],\n",
       " 'simulation_filters': {'mode': 20,\n",
       "  'choice_cnt': 0,\n",
       "  'mean_rt': 17,\n",
       "  'std': 0,\n",
       "  'mode_cnt_rel': 0.9},\n",
       " 'negative_rt_cutoff': -66.77497,\n",
       " 'n_subruns': 10,\n",
       " 'bin_pointwise': False,\n",
       " 'separate_response_channels': False,\n",
       " 'n_training_examples_by_parameter_set': 2000}"
      ]
     },
     "execution_count": 3,
     "metadata": {},
     "output_type": "execute_result"
    }
   ],
   "source": [
    "generator_config"
   ]
  },
  {
   "cell_type": "code",
   "execution_count": 4,
   "id": "1169643d",
   "metadata": {},
   "outputs": [
    {
     "name": "stdout",
     "output_type": "stream",
     "text": [
      "n_cpus used:  5\n",
      "checking:  lan_to_hddm_tmp_data/lan_mlp/\n",
      "simulation round: 1  of 10\n",
      "simulation round: 2  of 10\n",
      "simulation round: 3  of 10\n",
      "simulation round: 4  of 10\n",
      "simulation round: 5  of 10\n",
      "simulation round: 6  of 10\n",
      "simulation round: 7  of 10\n",
      "simulation round: 8  of 10\n",
      "simulation round: 9  of 10\n",
      "simulation round: 10  of 10\n",
      "Writing to file:  lan_to_hddm_tmp_data/lan_mlp//training_data_75134f52266511eeb41a0242ac110002.pickle\n"
     ]
    }
   ],
   "source": [
    "my_dataset_generator = ssms.dataset_generators.data_generator(generator_config = generator_config,\n",
    "                                                              model_config = model_config)\n",
    "\n",
    "training_data = my_dataset_generator.generate_data_training_uniform(save = True)"
   ]
  },
  {
   "cell_type": "code",
   "execution_count": 7,
   "id": "bef8437e",
   "metadata": {},
   "outputs": [],
   "source": [
    "import pickle"
   ]
  },
  {
   "cell_type": "code",
   "execution_count": 8,
   "id": "458b4c82",
   "metadata": {},
   "outputs": [],
   "source": [
    "fn = 'lan_to_hddm_tmp_data/lan_mlp/training_data_75134f52266511eeb41a0242ac110002.pickle'\n",
    "tmp_data = pickle.load(open(fn, \"rb\"))"
   ]
  },
  {
   "cell_type": "markdown",
   "id": "2f6fa983",
   "metadata": {},
   "source": [
    "Structure of training data:\n",
    "`data`: Simulated data. Last column is choice and second to last it RT. Columns before are parameters that generated the observation. Has shape (`n_parameter_sets` x `n_training_samples_by_parameter_set`, `n_params` + 2)\n",
    "`labels`: KDE of likelihood of simulated data. Used (?) as the labels to train the network. Has shape (`n_parameter_sets` x `n_training_samples_by_parameter_set`,)\n",
    "`choice_p`: Thought these would be choice proportions for each parameter combination but they don't seem to match the proportions in simulated data.\n",
    "`thetas`: Parameter combinations used to generate simulated data. Has shape (`n_parameter_sets` x `n_params`)\n",
    "`binned_128`:\n",
    "`binned_256`:\n",
    "`generator_config`: Same as defined above\n",
    "`model_config`: Same as defined above"
   ]
  },
  {
   "cell_type": "code",
   "execution_count": 10,
   "id": "71a59991",
   "metadata": {},
   "outputs": [
    {
     "data": {
      "text/plain": [
       "dict_keys(['data', 'labels', 'choice_p', 'thetas', 'binned_128', 'binned_256', 'generator_config', 'model_config'])"
      ]
     },
     "execution_count": 10,
     "metadata": {},
     "output_type": "execute_result"
    }
   ],
   "source": [
    "tmp_data.keys()"
   ]
  },
  {
   "cell_type": "code",
   "execution_count": 15,
   "id": "2e47eb0d",
   "metadata": {},
   "outputs": [
    {
     "data": {
      "text/plain": [
       "(5000000, 6)"
      ]
     },
     "execution_count": 15,
     "metadata": {},
     "output_type": "execute_result"
    }
   ],
   "source": [
    "tmp_data['data'].shape"
   ]
  },
  {
   "cell_type": "code",
   "execution_count": 16,
   "id": "73a35cb4",
   "metadata": {},
   "outputs": [
    {
     "data": {
      "text/plain": [
       "array([[-1.4388764 ,  0.5708366 ,  0.5322329 ,  1.1107221 ,  1.2620727 ,\n",
       "        -1.        ],\n",
       "       [-1.4388764 ,  0.5708366 ,  0.5322329 ,  1.1107221 ,  1.2400848 ,\n",
       "        -1.        ],\n",
       "       [-1.4388764 ,  0.5708366 ,  0.5322329 ,  1.1107221 ,  1.3780861 ,\n",
       "        -1.        ],\n",
       "       ...,\n",
       "       [ 2.7743032 ,  0.32321885,  0.84490323,  1.4482005 , -0.9035801 ,\n",
       "         1.        ],\n",
       "       [ 2.7743032 ,  0.32321885,  0.84490323,  1.4482005 , -0.53397965,\n",
       "         1.        ],\n",
       "       [ 2.7743032 ,  0.32321885,  0.84490323,  1.4482005 , -0.28388363,\n",
       "         1.        ]], dtype=float32)"
      ]
     },
     "execution_count": 16,
     "metadata": {},
     "output_type": "execute_result"
    }
   ],
   "source": [
    "tmp_data['data']"
   ]
  },
  {
   "cell_type": "code",
   "execution_count": 17,
   "id": "5e47a7de",
   "metadata": {},
   "outputs": [
    {
     "data": {
      "text/plain": [
       "array([[-1.4388764 ,  0.5708366 ,  0.5322329 ,  1.1107221 ],\n",
       "       [ 1.6167252 ,  1.3564736 ,  0.32852015,  1.4234009 ],\n",
       "       [ 0.6532003 ,  1.6370366 ,  0.61324537,  1.4685416 ],\n",
       "       ...,\n",
       "       [ 0.9171699 ,  0.6016883 ,  0.73059785,  1.2719735 ],\n",
       "       [-0.4157134 ,  0.3144693 ,  0.32055506,  1.034292  ],\n",
       "       [ 2.7743032 ,  0.32321885,  0.84490323,  1.4482005 ]],\n",
       "      dtype=float32)"
      ]
     },
     "execution_count": 17,
     "metadata": {},
     "output_type": "execute_result"
    }
   ],
   "source": [
    "tmp_data['thetas']"
   ]
  },
  {
   "cell_type": "code",
   "execution_count": 18,
   "id": "4e588e7e",
   "metadata": {},
   "outputs": [
    {
     "data": {
      "text/plain": [
       "(5000, 4)"
      ]
     },
     "execution_count": 18,
     "metadata": {},
     "output_type": "execute_result"
    }
   ],
   "source": [
    "tmp_data['thetas'].shape"
   ]
  },
  {
   "cell_type": "code",
   "execution_count": 19,
   "id": "c109dbdd",
   "metadata": {},
   "outputs": [
    {
     "data": {
      "text/plain": [
       "array([  0.8377411,   0.8177988,   0.4450194, ..., -66.77497  ,\n",
       "       -66.77497  , -66.77497  ], dtype=float32)"
      ]
     },
     "execution_count": 19,
     "metadata": {},
     "output_type": "execute_result"
    }
   ],
   "source": [
    "# kde of likelihood for simulated data OR max negative RT\n",
    "# called \"label\" because (?) used as labels for training the network    \n",
    "tmp_data['labels']"
   ]
  },
  {
   "cell_type": "code",
   "execution_count": 20,
   "id": "4bd74a2f",
   "metadata": {},
   "outputs": [
    {
     "data": {
      "text/plain": [
       "(5000000,)"
      ]
     },
     "execution_count": 20,
     "metadata": {},
     "output_type": "execute_result"
    }
   ],
   "source": [
    "tmp_data['labels'].shape"
   ]
  },
  {
   "cell_type": "code",
   "execution_count": 39,
   "id": "b51705b0",
   "metadata": {},
   "outputs": [
    {
     "data": {
      "text/plain": [
       "array([0.1845, 0.9575, 0.9445, ..., 0.894 , 0.266 , 0.9755], dtype=float32)"
      ]
     },
     "execution_count": 39,
     "metadata": {},
     "output_type": "execute_result"
    }
   ],
   "source": [
    "tmp_data['choice_p']"
   ]
  },
  {
   "cell_type": "code",
   "execution_count": 49,
   "id": "34636663",
   "metadata": {},
   "outputs": [
    {
     "data": {
      "text/plain": [
       "(5000,)"
      ]
     },
     "execution_count": 49,
     "metadata": {},
     "output_type": "execute_result"
    }
   ],
   "source": [
    "tmp_data['choice_p'].shape"
   ]
  },
  {
   "cell_type": "code",
   "execution_count": 53,
   "id": "f78610e0",
   "metadata": {},
   "outputs": [
    {
     "data": {
      "text/plain": [
       "0.252"
      ]
     },
     "execution_count": 53,
     "metadata": {},
     "output_type": "execute_result"
    }
   ],
   "source": [
    "[i[5] for i in tmp_data['data'][0:1000,]].count(1)/1000"
   ]
  },
  {
   "cell_type": "code",
   "execution_count": 57,
   "id": "1ff2dcc8",
   "metadata": {},
   "outputs": [
    {
     "data": {
      "text/plain": [
       "0.312"
      ]
     },
     "execution_count": 57,
     "metadata": {},
     "output_type": "execute_result"
    }
   ],
   "source": [
    "[i[5] for i in tmp_data['data'][(5000000-(999*2)+1):(5000000-999),]].count(1)/1000"
   ]
  },
  {
   "cell_type": "code",
   "execution_count": null,
   "id": "8127c498",
   "metadata": {},
   "outputs": [],
   "source": [
    "len(tmp)"
   ]
  }
 ],
 "metadata": {
  "kernelspec": {
   "display_name": "Python 3",
   "language": "python",
   "name": "python3"
  },
  "language_info": {
   "codemirror_mode": {
    "name": "ipython",
    "version": 3
   },
   "file_extension": ".py",
   "mimetype": "text/x-python",
   "name": "python",
   "nbconvert_exporter": "python",
   "pygments_lexer": "ipython3",
   "version": "3.8.8"
  }
 },
 "nbformat": 4,
 "nbformat_minor": 5
}
